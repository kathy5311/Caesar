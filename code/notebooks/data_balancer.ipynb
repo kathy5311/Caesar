{
 "cells": [
  {
   "cell_type": "code",
   "execution_count": 1,
   "metadata": {},
   "outputs": [
    {
     "name": "stdout",
     "output_type": "stream",
     "text": [
      "Requirement already satisfied: pandas in /home/kathy531/.local/lib/python3.8/site-packages (2.0.3)\n",
      "Requirement already satisfied: tzdata>=2022.1 in /home/kathy531/.local/lib/python3.8/site-packages (from pandas) (2024.1)\n",
      "Requirement already satisfied: python-dateutil>=2.8.2 in /usr/local/lib/python3.8/dist-packages (from pandas) (2.9.0.post0)\n",
      "Requirement already satisfied: numpy>=1.20.3; python_version < \"3.10\" in /usr/local/lib/python3.8/dist-packages (from pandas) (1.24.4)\n",
      "Requirement already satisfied: pytz>=2020.1 in /home/kathy531/.local/lib/python3.8/site-packages (from pandas) (2024.1)\n",
      "Requirement already satisfied: six>=1.5 in /usr/lib/python3/dist-packages (from python-dateutil>=2.8.2->pandas) (1.14.0)\n",
      "Note: you may need to restart the kernel to use updated packages.\n"
     ]
    }
   ],
   "source": [
    "#pip install pandas"
   ]
  },
  {
   "cell_type": "code",
   "execution_count": 1,
   "metadata": {},
   "outputs": [],
   "source": [
    "import pandas as pd\n",
    "import numpy as np"
   ]
  },
  {
   "cell_type": "code",
   "execution_count": 3,
   "metadata": {},
   "outputs": [
    {
     "ename": "FileNotFoundError",
     "evalue": "[Errno 2] No such file or directory: 'train_list.csv'",
     "output_type": "error",
     "traceback": [
      "\u001b[0;31m---------------------------------------------------------------------------\u001b[0m",
      "\u001b[0;31mFileNotFoundError\u001b[0m                         Traceback (most recent call last)",
      "Cell \u001b[0;32mIn[3], line 1\u001b[0m\n\u001b[0;32m----> 1\u001b[0m df\u001b[38;5;241m=\u001b[39m\u001b[43mpd\u001b[49m\u001b[38;5;241;43m.\u001b[39;49m\u001b[43mread_csv\u001b[49m\u001b[43m(\u001b[49m\u001b[38;5;124;43m'\u001b[39;49m\u001b[38;5;124;43mtrain_list.csv\u001b[39;49m\u001b[38;5;124;43m'\u001b[39;49m\u001b[43m)\u001b[49m\n\u001b[1;32m      2\u001b[0m df\n",
      "File \u001b[0;32m~/.local/lib/python3.8/site-packages/pandas/io/parsers/readers.py:912\u001b[0m, in \u001b[0;36mread_csv\u001b[0;34m(filepath_or_buffer, sep, delimiter, header, names, index_col, usecols, dtype, engine, converters, true_values, false_values, skipinitialspace, skiprows, skipfooter, nrows, na_values, keep_default_na, na_filter, verbose, skip_blank_lines, parse_dates, infer_datetime_format, keep_date_col, date_parser, date_format, dayfirst, cache_dates, iterator, chunksize, compression, thousands, decimal, lineterminator, quotechar, quoting, doublequote, escapechar, comment, encoding, encoding_errors, dialect, on_bad_lines, delim_whitespace, low_memory, memory_map, float_precision, storage_options, dtype_backend)\u001b[0m\n\u001b[1;32m    899\u001b[0m kwds_defaults \u001b[38;5;241m=\u001b[39m _refine_defaults_read(\n\u001b[1;32m    900\u001b[0m     dialect,\n\u001b[1;32m    901\u001b[0m     delimiter,\n\u001b[0;32m   (...)\u001b[0m\n\u001b[1;32m    908\u001b[0m     dtype_backend\u001b[38;5;241m=\u001b[39mdtype_backend,\n\u001b[1;32m    909\u001b[0m )\n\u001b[1;32m    910\u001b[0m kwds\u001b[38;5;241m.\u001b[39mupdate(kwds_defaults)\n\u001b[0;32m--> 912\u001b[0m \u001b[38;5;28;01mreturn\u001b[39;00m \u001b[43m_read\u001b[49m\u001b[43m(\u001b[49m\u001b[43mfilepath_or_buffer\u001b[49m\u001b[43m,\u001b[49m\u001b[43m \u001b[49m\u001b[43mkwds\u001b[49m\u001b[43m)\u001b[49m\n",
      "File \u001b[0;32m~/.local/lib/python3.8/site-packages/pandas/io/parsers/readers.py:577\u001b[0m, in \u001b[0;36m_read\u001b[0;34m(filepath_or_buffer, kwds)\u001b[0m\n\u001b[1;32m    574\u001b[0m _validate_names(kwds\u001b[38;5;241m.\u001b[39mget(\u001b[38;5;124m\"\u001b[39m\u001b[38;5;124mnames\u001b[39m\u001b[38;5;124m\"\u001b[39m, \u001b[38;5;28;01mNone\u001b[39;00m))\n\u001b[1;32m    576\u001b[0m \u001b[38;5;66;03m# Create the parser.\u001b[39;00m\n\u001b[0;32m--> 577\u001b[0m parser \u001b[38;5;241m=\u001b[39m \u001b[43mTextFileReader\u001b[49m\u001b[43m(\u001b[49m\u001b[43mfilepath_or_buffer\u001b[49m\u001b[43m,\u001b[49m\u001b[43m \u001b[49m\u001b[38;5;241;43m*\u001b[39;49m\u001b[38;5;241;43m*\u001b[39;49m\u001b[43mkwds\u001b[49m\u001b[43m)\u001b[49m\n\u001b[1;32m    579\u001b[0m \u001b[38;5;28;01mif\u001b[39;00m chunksize \u001b[38;5;129;01mor\u001b[39;00m iterator:\n\u001b[1;32m    580\u001b[0m     \u001b[38;5;28;01mreturn\u001b[39;00m parser\n",
      "File \u001b[0;32m~/.local/lib/python3.8/site-packages/pandas/io/parsers/readers.py:1407\u001b[0m, in \u001b[0;36mTextFileReader.__init__\u001b[0;34m(self, f, engine, **kwds)\u001b[0m\n\u001b[1;32m   1404\u001b[0m     \u001b[38;5;28mself\u001b[39m\u001b[38;5;241m.\u001b[39moptions[\u001b[38;5;124m\"\u001b[39m\u001b[38;5;124mhas_index_names\u001b[39m\u001b[38;5;124m\"\u001b[39m] \u001b[38;5;241m=\u001b[39m kwds[\u001b[38;5;124m\"\u001b[39m\u001b[38;5;124mhas_index_names\u001b[39m\u001b[38;5;124m\"\u001b[39m]\n\u001b[1;32m   1406\u001b[0m \u001b[38;5;28mself\u001b[39m\u001b[38;5;241m.\u001b[39mhandles: IOHandles \u001b[38;5;241m|\u001b[39m \u001b[38;5;28;01mNone\u001b[39;00m \u001b[38;5;241m=\u001b[39m \u001b[38;5;28;01mNone\u001b[39;00m\n\u001b[0;32m-> 1407\u001b[0m \u001b[38;5;28mself\u001b[39m\u001b[38;5;241m.\u001b[39m_engine \u001b[38;5;241m=\u001b[39m \u001b[38;5;28;43mself\u001b[39;49m\u001b[38;5;241;43m.\u001b[39;49m\u001b[43m_make_engine\u001b[49m\u001b[43m(\u001b[49m\u001b[43mf\u001b[49m\u001b[43m,\u001b[49m\u001b[43m \u001b[49m\u001b[38;5;28;43mself\u001b[39;49m\u001b[38;5;241;43m.\u001b[39;49m\u001b[43mengine\u001b[49m\u001b[43m)\u001b[49m\n",
      "File \u001b[0;32m~/.local/lib/python3.8/site-packages/pandas/io/parsers/readers.py:1661\u001b[0m, in \u001b[0;36mTextFileReader._make_engine\u001b[0;34m(self, f, engine)\u001b[0m\n\u001b[1;32m   1659\u001b[0m     \u001b[38;5;28;01mif\u001b[39;00m \u001b[38;5;124m\"\u001b[39m\u001b[38;5;124mb\u001b[39m\u001b[38;5;124m\"\u001b[39m \u001b[38;5;129;01mnot\u001b[39;00m \u001b[38;5;129;01min\u001b[39;00m mode:\n\u001b[1;32m   1660\u001b[0m         mode \u001b[38;5;241m+\u001b[39m\u001b[38;5;241m=\u001b[39m \u001b[38;5;124m\"\u001b[39m\u001b[38;5;124mb\u001b[39m\u001b[38;5;124m\"\u001b[39m\n\u001b[0;32m-> 1661\u001b[0m \u001b[38;5;28mself\u001b[39m\u001b[38;5;241m.\u001b[39mhandles \u001b[38;5;241m=\u001b[39m \u001b[43mget_handle\u001b[49m\u001b[43m(\u001b[49m\n\u001b[1;32m   1662\u001b[0m \u001b[43m    \u001b[49m\u001b[43mf\u001b[49m\u001b[43m,\u001b[49m\n\u001b[1;32m   1663\u001b[0m \u001b[43m    \u001b[49m\u001b[43mmode\u001b[49m\u001b[43m,\u001b[49m\n\u001b[1;32m   1664\u001b[0m \u001b[43m    \u001b[49m\u001b[43mencoding\u001b[49m\u001b[38;5;241;43m=\u001b[39;49m\u001b[38;5;28;43mself\u001b[39;49m\u001b[38;5;241;43m.\u001b[39;49m\u001b[43moptions\u001b[49m\u001b[38;5;241;43m.\u001b[39;49m\u001b[43mget\u001b[49m\u001b[43m(\u001b[49m\u001b[38;5;124;43m\"\u001b[39;49m\u001b[38;5;124;43mencoding\u001b[39;49m\u001b[38;5;124;43m\"\u001b[39;49m\u001b[43m,\u001b[49m\u001b[43m \u001b[49m\u001b[38;5;28;43;01mNone\u001b[39;49;00m\u001b[43m)\u001b[49m\u001b[43m,\u001b[49m\n\u001b[1;32m   1665\u001b[0m \u001b[43m    \u001b[49m\u001b[43mcompression\u001b[49m\u001b[38;5;241;43m=\u001b[39;49m\u001b[38;5;28;43mself\u001b[39;49m\u001b[38;5;241;43m.\u001b[39;49m\u001b[43moptions\u001b[49m\u001b[38;5;241;43m.\u001b[39;49m\u001b[43mget\u001b[49m\u001b[43m(\u001b[49m\u001b[38;5;124;43m\"\u001b[39;49m\u001b[38;5;124;43mcompression\u001b[39;49m\u001b[38;5;124;43m\"\u001b[39;49m\u001b[43m,\u001b[49m\u001b[43m \u001b[49m\u001b[38;5;28;43;01mNone\u001b[39;49;00m\u001b[43m)\u001b[49m\u001b[43m,\u001b[49m\n\u001b[1;32m   1666\u001b[0m \u001b[43m    \u001b[49m\u001b[43mmemory_map\u001b[49m\u001b[38;5;241;43m=\u001b[39;49m\u001b[38;5;28;43mself\u001b[39;49m\u001b[38;5;241;43m.\u001b[39;49m\u001b[43moptions\u001b[49m\u001b[38;5;241;43m.\u001b[39;49m\u001b[43mget\u001b[49m\u001b[43m(\u001b[49m\u001b[38;5;124;43m\"\u001b[39;49m\u001b[38;5;124;43mmemory_map\u001b[39;49m\u001b[38;5;124;43m\"\u001b[39;49m\u001b[43m,\u001b[49m\u001b[43m \u001b[49m\u001b[38;5;28;43;01mFalse\u001b[39;49;00m\u001b[43m)\u001b[49m\u001b[43m,\u001b[49m\n\u001b[1;32m   1667\u001b[0m \u001b[43m    \u001b[49m\u001b[43mis_text\u001b[49m\u001b[38;5;241;43m=\u001b[39;49m\u001b[43mis_text\u001b[49m\u001b[43m,\u001b[49m\n\u001b[1;32m   1668\u001b[0m \u001b[43m    \u001b[49m\u001b[43merrors\u001b[49m\u001b[38;5;241;43m=\u001b[39;49m\u001b[38;5;28;43mself\u001b[39;49m\u001b[38;5;241;43m.\u001b[39;49m\u001b[43moptions\u001b[49m\u001b[38;5;241;43m.\u001b[39;49m\u001b[43mget\u001b[49m\u001b[43m(\u001b[49m\u001b[38;5;124;43m\"\u001b[39;49m\u001b[38;5;124;43mencoding_errors\u001b[39;49m\u001b[38;5;124;43m\"\u001b[39;49m\u001b[43m,\u001b[49m\u001b[43m \u001b[49m\u001b[38;5;124;43m\"\u001b[39;49m\u001b[38;5;124;43mstrict\u001b[39;49m\u001b[38;5;124;43m\"\u001b[39;49m\u001b[43m)\u001b[49m\u001b[43m,\u001b[49m\n\u001b[1;32m   1669\u001b[0m \u001b[43m    \u001b[49m\u001b[43mstorage_options\u001b[49m\u001b[38;5;241;43m=\u001b[39;49m\u001b[38;5;28;43mself\u001b[39;49m\u001b[38;5;241;43m.\u001b[39;49m\u001b[43moptions\u001b[49m\u001b[38;5;241;43m.\u001b[39;49m\u001b[43mget\u001b[49m\u001b[43m(\u001b[49m\u001b[38;5;124;43m\"\u001b[39;49m\u001b[38;5;124;43mstorage_options\u001b[39;49m\u001b[38;5;124;43m\"\u001b[39;49m\u001b[43m,\u001b[49m\u001b[43m \u001b[49m\u001b[38;5;28;43;01mNone\u001b[39;49;00m\u001b[43m)\u001b[49m\u001b[43m,\u001b[49m\n\u001b[1;32m   1670\u001b[0m \u001b[43m\u001b[49m\u001b[43m)\u001b[49m\n\u001b[1;32m   1671\u001b[0m \u001b[38;5;28;01massert\u001b[39;00m \u001b[38;5;28mself\u001b[39m\u001b[38;5;241m.\u001b[39mhandles \u001b[38;5;129;01mis\u001b[39;00m \u001b[38;5;129;01mnot\u001b[39;00m \u001b[38;5;28;01mNone\u001b[39;00m\n\u001b[1;32m   1672\u001b[0m f \u001b[38;5;241m=\u001b[39m \u001b[38;5;28mself\u001b[39m\u001b[38;5;241m.\u001b[39mhandles\u001b[38;5;241m.\u001b[39mhandle\n",
      "File \u001b[0;32m~/.local/lib/python3.8/site-packages/pandas/io/common.py:859\u001b[0m, in \u001b[0;36mget_handle\u001b[0;34m(path_or_buf, mode, encoding, compression, memory_map, is_text, errors, storage_options)\u001b[0m\n\u001b[1;32m    854\u001b[0m \u001b[38;5;28;01melif\u001b[39;00m \u001b[38;5;28misinstance\u001b[39m(handle, \u001b[38;5;28mstr\u001b[39m):\n\u001b[1;32m    855\u001b[0m     \u001b[38;5;66;03m# Check whether the filename is to be opened in binary mode.\u001b[39;00m\n\u001b[1;32m    856\u001b[0m     \u001b[38;5;66;03m# Binary mode does not support 'encoding' and 'newline'.\u001b[39;00m\n\u001b[1;32m    857\u001b[0m     \u001b[38;5;28;01mif\u001b[39;00m ioargs\u001b[38;5;241m.\u001b[39mencoding \u001b[38;5;129;01mand\u001b[39;00m \u001b[38;5;124m\"\u001b[39m\u001b[38;5;124mb\u001b[39m\u001b[38;5;124m\"\u001b[39m \u001b[38;5;129;01mnot\u001b[39;00m \u001b[38;5;129;01min\u001b[39;00m ioargs\u001b[38;5;241m.\u001b[39mmode:\n\u001b[1;32m    858\u001b[0m         \u001b[38;5;66;03m# Encoding\u001b[39;00m\n\u001b[0;32m--> 859\u001b[0m         handle \u001b[38;5;241m=\u001b[39m \u001b[38;5;28;43mopen\u001b[39;49m\u001b[43m(\u001b[49m\n\u001b[1;32m    860\u001b[0m \u001b[43m            \u001b[49m\u001b[43mhandle\u001b[49m\u001b[43m,\u001b[49m\n\u001b[1;32m    861\u001b[0m \u001b[43m            \u001b[49m\u001b[43mioargs\u001b[49m\u001b[38;5;241;43m.\u001b[39;49m\u001b[43mmode\u001b[49m\u001b[43m,\u001b[49m\n\u001b[1;32m    862\u001b[0m \u001b[43m            \u001b[49m\u001b[43mencoding\u001b[49m\u001b[38;5;241;43m=\u001b[39;49m\u001b[43mioargs\u001b[49m\u001b[38;5;241;43m.\u001b[39;49m\u001b[43mencoding\u001b[49m\u001b[43m,\u001b[49m\n\u001b[1;32m    863\u001b[0m \u001b[43m            \u001b[49m\u001b[43merrors\u001b[49m\u001b[38;5;241;43m=\u001b[39;49m\u001b[43merrors\u001b[49m\u001b[43m,\u001b[49m\n\u001b[1;32m    864\u001b[0m \u001b[43m            \u001b[49m\u001b[43mnewline\u001b[49m\u001b[38;5;241;43m=\u001b[39;49m\u001b[38;5;124;43m\"\u001b[39;49m\u001b[38;5;124;43m\"\u001b[39;49m\u001b[43m,\u001b[49m\n\u001b[1;32m    865\u001b[0m \u001b[43m        \u001b[49m\u001b[43m)\u001b[49m\n\u001b[1;32m    866\u001b[0m     \u001b[38;5;28;01melse\u001b[39;00m:\n\u001b[1;32m    867\u001b[0m         \u001b[38;5;66;03m# Binary mode\u001b[39;00m\n\u001b[1;32m    868\u001b[0m         handle \u001b[38;5;241m=\u001b[39m \u001b[38;5;28mopen\u001b[39m(handle, ioargs\u001b[38;5;241m.\u001b[39mmode)\n",
      "\u001b[0;31mFileNotFoundError\u001b[0m: [Errno 2] No such file or directory: 'train_list.csv'"
     ]
    }
   ],
   "source": [
    "df=pd.read_csv('train_list.csv')\n",
    "df"
   ]
  },
  {
   "cell_type": "markdown",
   "metadata": {},
   "source": [
    "### data 재가공"
   ]
  },
  {
   "cell_type": "code",
   "execution_count": null,
   "metadata": {},
   "outputs": [
    {
     "name": "stdout",
     "output_type": "stream",
     "text": [
      "A\n",
      "C\n",
      "CTP\n",
      "DG\n",
      "DGP\n",
      "G\n",
      "GTP\n",
      "MLZ\n",
      "U\n",
      "UTP\n",
      "['1u63', '1knz', '2vod', '2n3o', '2la5', '2kx5', '1biv', '1y69', '1tfy', '2km8', '1eiy', '2li8', '1wsu', '2rsk', '2l3j', '2mkk', '2noq', '1f8v', '2kg1', '2ms0', '1a4t', '2ihx', '1ivs', '1f7u', '1wz2', '2rkj', '1cvj', '1exy', '2j37', '1un6', '1jbr', '2f8s', '2a9x', '1yyw', '1fje', '1xok', '2py9', '3bx2', '2dlc', '1ytu', '6ny5', '1zbh', '2qux', '2hvy', '2nqp', '1laj', '2go5', '1zho', '1q2r', '1ysh', '2xc7', '1i9f', '1k8w', '4f1n', '4by9', '3t5q', '2fy1', '3trz', '2i82', '2deu', '2wwb', '1g1x', '3dh3', '3p6y', '4lj0', '4jvh', '2jlz', '3cz3', '1zbn', '3qjj', '1hji', '3k49', '3adi', '1mnb', '3aev', '4b3g', '3deg', '3pdm', '2zuf', '1nyb', '3j0p', '4ftb', '3epj', '6aay', '5aox', '3moj', '2bh2', '4tzz', '4ue5', '4m59', '3r9x', '5m0j', '4lgt', '4bs2', '5jju', '5bz1', '4qqb', '4k4x', '5e6m', '3j0l', '4n2q', '3b0v', '6iv8', '6g63', '3akz', '5xj2', '4a2x', '3wqy', '5c9h', '5wty', '5gam', '5g4u', '3htx', '5m8i', '5a79', '5z4d', '6ahr', '5yyn', '6d12', '5elh', '5elk', '4ato', '2xxa', '6so9', '6aax', '5wwx', '4tuw', '6d2u', '4qik', '6ifk', '3j5s', '4ngf', '5ztm', '6c6k', '3qsu', '6pun', '4qi2', '3j16', '6nud', '5wwf', '5guh', '6dtd', '6d2z', '4wan', '5l2l', '5u4j', '3j46', '7n3o', '4qu7', '6gc5', '5els', '6snj', '5anb', '5zeu', '5de8', '6gv4', '7onu', '6sce', '6htu', '5t16', '6f3h', '4u8t', '6ra4', '5zuu', '5j0m', '7ozs', '7r7c', '7mw8', '5wqe', '5osg', '7slp', '6hau', '5the', '6f4a', '7naf', '7r6k', '6k0b', '7om7', '5wzg', '7q4l', '7xk1', '7kx9', '6wlh', '5uzz', '8i88', '6ywo', '8cx0', '8h2h', '5w1i', '7y8t', '6xmg', '6lvr', '7xsq', '6q1h', '7r9g', '7wnu', '6mdz', '7eld', '6vrb', '6nod', '7jhy', '7zpk', '7vti', '8bf8', '7asa', '7m5o', '7uzz', '6vm6', '7z55', '7jl2', '7f3j', '7r6q', '7qde', '7bdv', '5o7h', '6y4b', '8id2', '6zdu', '7v93', '6v5b', '6ybs', '8bgu', '7d8c', '7d8o', '6nmm', '6wxx', '7xs4', '7sor', '7sp1', '8eg0', '8c9a', '7rgu', '7dic', '8e0f', '8d4b', '7t1n', '7t1o', '8aw3', '8g9z', '8fn6', '8eey', '7x34', '7vg3', '8c4v', '2a8v', '2yk5', '2zxu', '4kji', '3eqt', '5u9b', '3d2s', '1w55', '2xs5', '3rc8', '6m6s', '4db2', '5gip', '6h9h', '7eiu', '6nbj', '7pdv', '7wl0', '7po6', '7chd', '7og0', '7wv3', '2fzk', '2fzc', '4wop', '1wvc', '1kfd', '1vpa', '4xsv', '2be9', '5guf', '6ig2', '7ecd', '6ryk', '6qxn', '6tgv', '7bmf', '3bbb', '2lrr', '1del', '6tnh', '2czj', '3a6p', '3u2e', '3nnh', '3icq', '5ah5', '5cd1', '5l3s', '6u9x', '6g99', '7w0a', '6een', '8hmy', '3mof', '5gof', '4ncn', '2j59', '1wa5', '3evd', '2dy1', '2fb3', '5ey0', '4kax', '5yl2', '1plk', '5efc', '2a5d', '2qv6', '4o2b', '1jlr', '2h57', '1ckm', '3cwz', '3rsb', '2zet', '1nrj', '4lhz', '2jh9', '3wxm', '3ffu', '3zjy', '4u3j', '4u0m', '4xoi', '1w5e', '3iz0', '5j5c', '5m3c', '6d4g', '4v0o', '6iae', '5x6z', '4zke', '5c1t', '7c7j', '4mit', '5z2m', '5cjp', '5a96', '6d71', '6b0l', '7ljn', '5k7x', '6teo', '7uvp', '6s6a', '6ii6', '6jmg', '7w15', '6wcw', '6gx7', '6pwy', '7z6s', '7m6j', '6hdu', '6sur', '7v2b', '7f6j', '8sgd', '8ij9', '2r5a', '3f70', '2vyt', '2ylc', '2db3', '3g1d', '1loq', '2qqp', '3i5x', '3er9', '5l8q', '4pmw', '5n94', '4j7l', '6bjv', '5aor', '5sup', '5fn1', '6trq', '5c0y', '6e4p', '7y9x', '6r7g', '6m7d', '7c06', '6yrq', '8acc', '7x4p', '6ppn', '6o16', '7jz0', '7zgr', '2j4l', '3hj1', '2b51', '4e80', '4bpw', '5a9a', '7bix']\n"
     ]
    }
   ],
   "source": [
    "aminoG=df.groupby('amino')\n",
    "amino_dict=['GLY','ALA','SER','VAL','LEU','ILE','PRO','PHE','THR','TPO','ASN','ASP','HIS'\n",
    "        ,'TYR','ARG','GLN','GLU','TRP','LYS','MET','CYS','MSE',\"SEP\",\"PTR\",\"KCX\",\"CSO\",\"PCA\",\"CSD\",\"CME\",\"MLY\"]\n",
    "pron=[]\n",
    "for i,grouped in aminoG:\n",
    "\n",
    "    if i not in amino_dict:\n",
    "        print(i)\n",
    "        for proname in grouped['proname']:\n",
    "            if proname not in pron:\n",
    "                pron.append(proname)\n",
    "print((pron))"
   ]
  },
  {
   "cell_type": "code",
   "execution_count": null,
   "metadata": {},
   "outputs": [],
   "source": [
    "'''\n",
    "with open(\"train_list_0730.csv\", \"w+\") as g:\n",
    "    with open(\"train_list.csv\",'r') as f:\n",
    "        for line in f:\n",
    "            if line[:4] in pron: continue\n",
    "            g.write(line)\n",
    "f.close()\n",
    "g.close()\n",
    "'''            "
   ]
  },
  {
   "cell_type": "markdown",
   "metadata": {},
   "source": [
    "### train_list_0730 재분석"
   ]
  },
  {
   "cell_type": "code",
   "execution_count": 2,
   "metadata": {},
   "outputs": [
    {
     "data": {
      "text/html": [
       "<div>\n",
       "<style scoped>\n",
       "    .dataframe tbody tr th:only-of-type {\n",
       "        vertical-align: middle;\n",
       "    }\n",
       "\n",
       "    .dataframe tbody tr th {\n",
       "        vertical-align: top;\n",
       "    }\n",
       "\n",
       "    .dataframe thead th {\n",
       "        text-align: right;\n",
       "    }\n",
       "</style>\n",
       "<table border=\"1\" class=\"dataframe\">\n",
       "  <thead>\n",
       "    <tr style=\"text-align: right;\">\n",
       "      <th></th>\n",
       "      <th>proname</th>\n",
       "      <th>amino</th>\n",
       "      <th>res</th>\n",
       "    </tr>\n",
       "  </thead>\n",
       "  <tbody>\n",
       "    <tr>\n",
       "      <th>0</th>\n",
       "      <td>3o6b</td>\n",
       "      <td>PRO</td>\n",
       "      <td>A72</td>\n",
       "    </tr>\n",
       "    <tr>\n",
       "      <th>1</th>\n",
       "      <td>3o6b</td>\n",
       "      <td>LYS</td>\n",
       "      <td>A73</td>\n",
       "    </tr>\n",
       "    <tr>\n",
       "      <th>2</th>\n",
       "      <td>3o6b</td>\n",
       "      <td>GLU</td>\n",
       "      <td>A74</td>\n",
       "    </tr>\n",
       "    <tr>\n",
       "      <th>3</th>\n",
       "      <td>3o6b</td>\n",
       "      <td>LEU</td>\n",
       "      <td>A75</td>\n",
       "    </tr>\n",
       "    <tr>\n",
       "      <th>4</th>\n",
       "      <td>3o6b</td>\n",
       "      <td>THR</td>\n",
       "      <td>A76</td>\n",
       "    </tr>\n",
       "    <tr>\n",
       "      <th>...</th>\n",
       "      <td>...</td>\n",
       "      <td>...</td>\n",
       "      <td>...</td>\n",
       "    </tr>\n",
       "    <tr>\n",
       "      <th>7167677</th>\n",
       "      <td>7ztq</td>\n",
       "      <td>GLU</td>\n",
       "      <td>A290</td>\n",
       "    </tr>\n",
       "    <tr>\n",
       "      <th>7167678</th>\n",
       "      <td>7ztq</td>\n",
       "      <td>LYS</td>\n",
       "      <td>A292</td>\n",
       "    </tr>\n",
       "    <tr>\n",
       "      <th>7167679</th>\n",
       "      <td>7ztq</td>\n",
       "      <td>ARG</td>\n",
       "      <td>A294</td>\n",
       "    </tr>\n",
       "    <tr>\n",
       "      <th>7167680</th>\n",
       "      <td>7ztq</td>\n",
       "      <td>GLU</td>\n",
       "      <td>A296</td>\n",
       "    </tr>\n",
       "    <tr>\n",
       "      <th>7167681</th>\n",
       "      <td>7ztq</td>\n",
       "      <td>ILE</td>\n",
       "      <td>A297</td>\n",
       "    </tr>\n",
       "  </tbody>\n",
       "</table>\n",
       "<p>7167682 rows × 3 columns</p>\n",
       "</div>"
      ],
      "text/plain": [
       "        proname amino   res\n",
       "0          3o6b   PRO   A72\n",
       "1          3o6b   LYS   A73\n",
       "2          3o6b   GLU   A74\n",
       "3          3o6b   LEU   A75\n",
       "4          3o6b   THR   A76\n",
       "...         ...   ...   ...\n",
       "7167677    7ztq   GLU  A290\n",
       "7167678    7ztq   LYS  A292\n",
       "7167679    7ztq   ARG  A294\n",
       "7167680    7ztq   GLU  A296\n",
       "7167681    7ztq   ILE  A297\n",
       "\n",
       "[7167682 rows x 3 columns]"
      ]
     },
     "execution_count": 2,
     "metadata": {},
     "output_type": "execute_result"
    }
   ],
   "source": [
    "df_rev=pd.read_csv('train_list_0730.csv')\n",
    "df_rev"
   ]
  },
  {
   "cell_type": "code",
   "execution_count": 3,
   "metadata": {},
   "outputs": [
    {
     "name": "stdout",
     "output_type": "stream",
     "text": [
      "18\n"
     ]
    }
   ],
   "source": [
    "amiG = df_rev.groupby('amino')\n",
    "pron2=[]\n",
    "for i, grouped_rev in amiG:\n",
    "    pron2.append(i)\n",
    "print(len(pron2))\n",
    "    "
   ]
  },
  {
   "cell_type": "markdown",
   "metadata": {},
   "source": [
    "#### The number of AA"
   ]
  },
  {
   "cell_type": "code",
   "execution_count": 6,
   "metadata": {},
   "outputs": [
    {
     "name": "stdout",
     "output_type": "stream",
     "text": [
      "Requirement already satisfied: matplotlib in /home/kathy531/.local/lib/python3.8/site-packages (3.7.5)\n",
      "Requirement already satisfied: contourpy>=1.0.1 in /home/kathy531/.local/lib/python3.8/site-packages (from matplotlib) (1.1.1)\n",
      "Requirement already satisfied: cycler>=0.10 in /home/kathy531/.local/lib/python3.8/site-packages (from matplotlib) (0.12.1)\n",
      "Requirement already satisfied: fonttools>=4.22.0 in /home/kathy531/.local/lib/python3.8/site-packages (from matplotlib) (4.53.1)\n",
      "Requirement already satisfied: kiwisolver>=1.0.1 in /home/kathy531/.local/lib/python3.8/site-packages (from matplotlib) (1.4.5)\n",
      "Requirement already satisfied: numpy<2,>=1.20 in /home/kathy531/.conda/envs/rdkit/lib/python3.8/site-packages (from matplotlib) (1.24.4)\n",
      "Requirement already satisfied: packaging>=20.0 in /home/kathy531/.conda/envs/rdkit/lib/python3.8/site-packages (from matplotlib) (24.1)\n",
      "Requirement already satisfied: pillow>=6.2.0 in /home/kathy531/.local/lib/python3.8/site-packages (from matplotlib) (10.4.0)\n",
      "Collecting pyparsing>=2.3.1 (from matplotlib)\n",
      "  Downloading pyparsing-3.1.2-py3-none-any.whl.metadata (5.1 kB)\n",
      "Requirement already satisfied: python-dateutil>=2.7 in /home/kathy531/.conda/envs/rdkit/lib/python3.8/site-packages (from matplotlib) (2.9.0)\n",
      "Requirement already satisfied: importlib-resources>=3.2.0 in /home/kathy531/.local/lib/python3.8/site-packages (from matplotlib) (6.4.0)\n",
      "Requirement already satisfied: zipp>=3.1.0 in /home/kathy531/.local/lib/python3.8/site-packages (from importlib-resources>=3.2.0->matplotlib) (3.19.2)\n",
      "Requirement already satisfied: six>=1.5 in /home/kathy531/.conda/envs/rdkit/lib/python3.8/site-packages (from python-dateutil>=2.7->matplotlib) (1.16.0)\n",
      "Downloading pyparsing-3.1.2-py3-none-any.whl (103 kB)\n",
      "Installing collected packages: pyparsing\n",
      "Successfully installed pyparsing-3.1.2\n",
      "Note: you may need to restart the kernel to use updated packages.\n"
     ]
    }
   ],
   "source": [
    "pip install -U matplotlib"
   ]
  },
  {
   "cell_type": "code",
   "execution_count": 4,
   "metadata": {},
   "outputs": [
    {
     "name": "stdout",
     "output_type": "stream",
     "text": [
      "116647\n",
      "{'amino': ['ARG', 'ASN', 'ASP', 'CYS', 'GLN', 'GLU', 'HIS', 'ILE', 'LEU', 'LYS', 'MET', 'PHE', 'PRO', 'SER', 'THR', 'TRP', 'TYR', 'VAL'], 'value': [425682, 363920, 488802, 116647, 321624, 554911, 199347, 489174, 808035, 486070, 181805, 348174, 383674, 528668, 461749, 122953, 302129, 584318]}\n",
      "2099646\n",
      "1679716\n"
     ]
    }
   ],
   "source": [
    "import matplotlib.pyplot as plt\n",
    "\n",
    "value_dict={'amino':[],'value':[]}\n",
    "for i, grouped_rev in amiG:\n",
    "    if i not in value_dict['amino']:\n",
    "        value_dict['amino'].append(i)\n",
    "    if len(grouped_rev) not in value_dict['value']:\n",
    "        value_dict['value'].append(len(grouped_rev))\n",
    "\n",
    "print(min(value_dict['value']))\n",
    "print(value_dict)\n",
    "print(116647*18)\n",
    "print(int(2099646*0.8))"
   ]
  },
  {
   "cell_type": "code",
   "execution_count": 5,
   "metadata": {},
   "outputs": [
    {
     "data": {
      "text/plain": [
       "<Axes: xlabel='amino'>"
      ]
     },
     "execution_count": 5,
     "metadata": {},
     "output_type": "execute_result"
    },
    {
     "data": {
      "image/png": "[encoded data removed]",
      "text/plain": [
       "<Figure size 640x480 with 1 Axes>"
      ]
     },
     "metadata": {},
     "output_type": "display_data"
    }
   ],
   "source": [
    "plot_df=pd.DataFrame(value_dict)\n",
    "plot_df.plot.bar(x='amino', y='value', rot=0)"
   ]
  },
  {
   "cell_type": "code",
   "execution_count": null,
   "metadata": {},
   "outputs": [],
   "source": [
    "import random\n",
    "sample_size=120000\n",
    "with open('test_train_list.txt','w+') as f:\n",
    "    for i, grouped in amiG:\n",
    "        if len(grouped)\n",
    "    "
   ]
  },
  {
   "cell_type": "markdown",
   "metadata": {},
   "source": [
    "#### 최종 데이터셋 분석"
   ]
  },
  {
   "cell_type": "code",
   "execution_count": 7,
   "metadata": {},
   "outputs": [
    {
     "data": {
      "text/html": [
       "<div>\n",
       "<style scoped>\n",
       "    .dataframe tbody tr th:only-of-type {\n",
       "        vertical-align: middle;\n",
       "    }\n",
       "\n",
       "    .dataframe tbody tr th {\n",
       "        vertical-align: top;\n",
       "    }\n",
       "\n",
       "    .dataframe thead th {\n",
       "        text-align: right;\n",
       "    }\n",
       "</style>\n",
       "<table border=\"1\" class=\"dataframe\">\n",
       "  <thead>\n",
       "    <tr style=\"text-align: right;\">\n",
       "      <th></th>\n",
       "      <th>proname</th>\n",
       "      <th>amino</th>\n",
       "      <th>res</th>\n",
       "    </tr>\n",
       "  </thead>\n",
       "  <tbody>\n",
       "    <tr>\n",
       "      <th>0</th>\n",
       "      <td>7q1u</td>\n",
       "      <td>TYR</td>\n",
       "      <td>B831</td>\n",
       "    </tr>\n",
       "    <tr>\n",
       "      <th>1</th>\n",
       "      <td>8c5z</td>\n",
       "      <td>LYS</td>\n",
       "      <td>A284</td>\n",
       "    </tr>\n",
       "    <tr>\n",
       "      <th>2</th>\n",
       "      <td>1ynt</td>\n",
       "      <td>GLU</td>\n",
       "      <td>C1187</td>\n",
       "    </tr>\n",
       "    <tr>\n",
       "      <th>3</th>\n",
       "      <td>2n8w</td>\n",
       "      <td>GLU</td>\n",
       "      <td>A82</td>\n",
       "    </tr>\n",
       "    <tr>\n",
       "      <th>4</th>\n",
       "      <td>2ydt</td>\n",
       "      <td>THR</td>\n",
       "      <td>A203</td>\n",
       "    </tr>\n",
       "    <tr>\n",
       "      <th>...</th>\n",
       "      <td>...</td>\n",
       "      <td>...</td>\n",
       "      <td>...</td>\n",
       "    </tr>\n",
       "    <tr>\n",
       "      <th>2156643</th>\n",
       "      <td>7wm6</td>\n",
       "      <td>ARG</td>\n",
       "      <td>A171</td>\n",
       "    </tr>\n",
       "    <tr>\n",
       "      <th>2156644</th>\n",
       "      <td>7qlh</td>\n",
       "      <td>ILE</td>\n",
       "      <td>A60</td>\n",
       "    </tr>\n",
       "    <tr>\n",
       "      <th>2156645</th>\n",
       "      <td>6zy0</td>\n",
       "      <td>GLN</td>\n",
       "      <td>A603</td>\n",
       "    </tr>\n",
       "    <tr>\n",
       "      <th>2156646</th>\n",
       "      <td>4om3</td>\n",
       "      <td>MET</td>\n",
       "      <td>A63</td>\n",
       "    </tr>\n",
       "    <tr>\n",
       "      <th>2156647</th>\n",
       "      <td>1j7x</td>\n",
       "      <td>LYS</td>\n",
       "      <td>A291</td>\n",
       "    </tr>\n",
       "  </tbody>\n",
       "</table>\n",
       "<p>2156648 rows × 3 columns</p>\n",
       "</div>"
      ],
      "text/plain": [
       "        proname amino    res\n",
       "0          7q1u   TYR   B831\n",
       "1          8c5z   LYS   A284\n",
       "2          1ynt   GLU  C1187\n",
       "3          2n8w   GLU    A82\n",
       "4          2ydt   THR   A203\n",
       "...         ...   ...    ...\n",
       "2156643    7wm6   ARG   A171\n",
       "2156644    7qlh   ILE    A60\n",
       "2156645    6zy0   GLN   A603\n",
       "2156646    4om3   MET    A63\n",
       "2156647    1j7x   LYS   A291\n",
       "\n",
       "[2156648 rows x 3 columns]"
      ]
     },
     "execution_count": 7,
     "metadata": {},
     "output_type": "execute_result"
    }
   ],
   "source": [
    "import pandas as pd\n",
    "df_rev=pd.read_csv('/home/kathy531/Caesar/data/final_train_validset.csv')\n",
    "df_rev"
   ]
  },
  {
   "cell_type": "code",
   "execution_count": 8,
   "metadata": {},
   "outputs": [
    {
     "name": "stdout",
     "output_type": "stream",
     "text": [
      "18\n"
     ]
    }
   ],
   "source": [
    "amiG2 = df_rev.groupby('amino')\n",
    "pron3=[]\n",
    "for i, grouped_rev in amiG2:\n",
    "    pron3.append(i)\n",
    "print(len(pron3))"
   ]
  },
  {
   "cell_type": "code",
   "execution_count": 11,
   "metadata": {},
   "outputs": [
    {
     "name": "stdout",
     "output_type": "stream",
     "text": [
      "116648\n",
      "{'amino': ['ARG', 'ASN', 'ASP', 'CYS', 'GLN', 'GLU', 'HIS', 'ILE', 'LEU', 'LYS', 'MET', 'PHE', 'PRO', 'SER', 'THR', 'TRP', 'TYR', 'VAL'], 'value': [120000, 120000, 120000, 116648, 120000, 120000, 120000, 120000, 120000, 120000, 120000, 120000, 120000, 120000, 120000, 120000, 120000, 120000]}\n"
     ]
    }
   ],
   "source": [
    "#import matplotlib.pyplot as plt\n",
    "\n",
    "value_dict={'amino':[],'value':[]}\n",
    "for i, grouped_rev in amiG2:\n",
    "    if i not in value_dict['amino']:\n",
    "        value_dict['amino'].append(i)\n",
    "    \n",
    "        value_dict['value'].append(len(grouped_rev))\n",
    "\n",
    "print(min(value_dict['value']))\n",
    "print(value_dict)\n"
   ]
  },
  {
   "cell_type": "code",
   "execution_count": 12,
   "metadata": {},
   "outputs": [
    {
     "data": {
      "text/plain": [
       "<Axes: xlabel='amino'>"
      ]
     },
     "execution_count": 12,
     "metadata": {},
     "output_type": "execute_result"
    },
    {
     "data": {
      "image/png": "[encoded data removed]",
      "text/plain": [
       "<Figure size 640x480 with 1 Axes>"
      ]
     },
     "metadata": {},
     "output_type": "display_data"
    }
   ],
   "source": [
    "import matplotlib.pyplot as plt\n",
    "\n",
    "plot_df=pd.DataFrame(value_dict)\n",
    "plot_df.plot.bar(x='amino', y='value', rot=0)"
   ]
  },
  {
   "cell_type": "code",
   "execution_count": null,
   "metadata": {},
   "outputs": [],
   "source": []
  }
 ],
 "metadata": {
  "kernelspec": {
   "display_name": "Python 3",
   "language": "python",
   "name": "python3"
  },
  "language_info": {
   "codemirror_mode": {
    "name": "ipython",
    "version": 3
   },
   "file_extension": ".py",
   "mimetype": "text/x-python",
   "name": "python",
   "nbconvert_exporter": "python",
   "pygments_lexer": "ipython3",
   "version": "3.8.19"
  }
 },
 "nbformat": 4,
 "nbformat_minor": 2
}
