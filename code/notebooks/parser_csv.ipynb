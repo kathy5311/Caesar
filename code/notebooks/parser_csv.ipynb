{
 "cells": [
  {
   "cell_type": "code",
   "execution_count": 1,
   "metadata": {},
   "outputs": [
    {
     "name": "stdout",
     "output_type": "stream",
     "text": [
      "Filtered lines have been saved to totaldis_0820.csv\n"
     ]
    }
   ],
   "source": [
    "import csv\n",
    "\n",
    "# 입력 CSV 파일 경로\n",
    "input_file = 'totaldis_0820.csv'\n",
    "# 출력 CSV 파일 경로\n",
    "output_file = 'totaldis_0820.csv'\n",
    "\n",
    "# 필터링된 라인을 저장할 리스트\n",
    "filtered_lines = []\n",
    "\n",
    "# CSV 파일 읽기\n",
    "with open(input_file, 'r') as infile:\n",
    "    reader = csv.reader(infile)\n",
    "    for row in reader:\n",
    "        # ','의 개수를 세고, 12개 미만이면 필터링된 리스트에 추가\n",
    "        #print(row)\n",
    "        if len(row)==8:\n",
    "            filtered_lines.append(row)\n",
    "\n",
    "# 필터링된 내용을 새로운 CSV 파일에 쓰기\n",
    "with open(output_file, 'w', newline='') as outfile:\n",
    "    writer = csv.writer(outfile)\n",
    "    writer.writerows(filtered_lines)\n",
    "\n",
    "print(f\"Filtered lines have been saved to {output_file}\")"
   ]
  },
  {
   "cell_type": "code",
   "execution_count": null,
   "metadata": {},
   "outputs": [],
   "source": []
  }
 ],
 "metadata": {
  "kernelspec": {
   "display_name": "rdkit",
   "language": "python",
   "name": "python3"
  },
  "language_info": {
   "codemirror_mode": {
    "name": "ipython",
    "version": 3
   },
   "file_extension": ".py",
   "mimetype": "text/x-python",
   "name": "python",
   "nbconvert_exporter": "python",
   "pygments_lexer": "ipython3",
   "version": "3.8.19"
  }
 },
 "nbformat": 4,
 "nbformat_minor": 2
}
